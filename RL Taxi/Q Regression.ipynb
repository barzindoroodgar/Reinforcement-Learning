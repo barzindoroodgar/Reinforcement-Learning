{
 "cells": [
  {
   "cell_type": "code",
   "execution_count": 40,
   "metadata": {},
   "outputs": [],
   "source": [
    "import tkinter as tk\n",
    "import reinforcement_learning as rl\n",
    "from taxi_environment import *\n",
    "import numpy as np\n",
    "import pandas as pd\n",
    "import csv"
   ]
  },
  {
   "cell_type": "code",
   "execution_count": 2,
   "metadata": {},
   "outputs": [
    {
     "name": "stdout",
     "output_type": "stream",
     "text": [
      "776965\n",
      "130823\n"
     ]
    }
   ],
   "source": [
    "# convert data in pkl file to table in csv format\n",
    "\n",
    "# load trained Q table and policy from pkl file\n",
    "Qt, pi = rl.read_data(filename='q_data_3grids_2019-05-17 19-47-45.pkl')\n",
    "print(\"Q table size: \" , len(Qt.table))\n",
    "print(\"Policy States: \" , len(pi.sa_dict))\n",
    "\n",
    "# write data to csv\n",
    "row_list = ['taxi_i','taxi_j','pass_i','pass_j','dest_i', 'dest_j', \n",
    "            'n_cell', 'e_cell', 's_cell', 'w_cell', 'pass_picked', \n",
    "            'action', 'Q(s,a)']           \n",
    "with open('taxi_data.csv', mode='w', newline='') as csv_file:\n",
    "    wr = csv.writer(csv_file, delimiter=',', quotechar='\"', quoting=csv.QUOTE_MINIMAL)\n",
    "    wr.writerow(row_list)\n",
    "    for s in pi.sa_dict.keys():\n",
    "        # find item with action a, and update with (a, Q)\n",
    "        for aQ_tuple in pi.sa_dict[s]:\n",
    "            # add state values to input list\n",
    "            row_list = s.value().split(\"_\") \n",
    "            # add action to input list\n",
    "            row_list.append(aQ_tuple[0]) \n",
    "            # add this q value in y\n",
    "            row_list.append(aQ_tuple[1].value)         \n",
    "            wr.writerow(row_list)  "
   ]
  },
  {
   "cell_type": "code",
   "execution_count": 41,
   "metadata": {},
   "outputs": [
    {
     "data": {
      "text/plain": [
       "(784938, 13)"
      ]
     },
     "execution_count": 41,
     "metadata": {},
     "output_type": "execute_result"
    }
   ],
   "source": [
    "# read csv\n",
    "df = pd.read_csv('taxi_data.csv')\n",
    "df.shape"
   ]
  },
  {
   "cell_type": "code",
   "execution_count": 42,
   "metadata": {},
   "outputs": [
    {
     "data": {
      "text/plain": [
       "(776965, 13)"
      ]
     },
     "execution_count": 42,
     "metadata": {},
     "output_type": "execute_result"
    }
   ],
   "source": [
    "df_filtered = df[df['Q(s,a)'] != 0]\n",
    "df_filtered.shape"
   ]
  },
  {
   "cell_type": "code",
   "execution_count": 43,
   "metadata": {},
   "outputs": [],
   "source": [
    "X = df_filtered[df_filtered.columns[:-1]]\n",
    "y = df_filtered[df_filtered.columns[-1]]"
   ]
  },
  {
   "cell_type": "code",
   "execution_count": 44,
   "metadata": {},
   "outputs": [
    {
     "data": {
      "text/html": [
       "<div>\n",
       "<style>\n",
       "    .dataframe thead tr:only-child th {\n",
       "        text-align: right;\n",
       "    }\n",
       "\n",
       "    .dataframe thead th {\n",
       "        text-align: left;\n",
       "    }\n",
       "\n",
       "    .dataframe tbody tr th {\n",
       "        vertical-align: top;\n",
       "    }\n",
       "</style>\n",
       "<table border=\"1\" class=\"dataframe\">\n",
       "  <thead>\n",
       "    <tr style=\"text-align: right;\">\n",
       "      <th></th>\n",
       "      <th>taxi_i</th>\n",
       "      <th>taxi_j</th>\n",
       "      <th>pass_i</th>\n",
       "      <th>pass_j</th>\n",
       "      <th>dest_i</th>\n",
       "      <th>dest_j</th>\n",
       "      <th>n_cell</th>\n",
       "      <th>e_cell</th>\n",
       "      <th>s_cell</th>\n",
       "      <th>w_cell</th>\n",
       "      <th>pass_picked</th>\n",
       "      <th>action</th>\n",
       "    </tr>\n",
       "  </thead>\n",
       "  <tbody>\n",
       "    <tr>\n",
       "      <th>0</th>\n",
       "      <td>14</td>\n",
       "      <td>10</td>\n",
       "      <td>1</td>\n",
       "      <td>3</td>\n",
       "      <td>19</td>\n",
       "      <td>14</td>\n",
       "      <td>0</td>\n",
       "      <td>1</td>\n",
       "      <td>1</td>\n",
       "      <td>1</td>\n",
       "      <td>0</td>\n",
       "      <td>w</td>\n",
       "    </tr>\n",
       "    <tr>\n",
       "      <th>1</th>\n",
       "      <td>14</td>\n",
       "      <td>10</td>\n",
       "      <td>1</td>\n",
       "      <td>3</td>\n",
       "      <td>19</td>\n",
       "      <td>14</td>\n",
       "      <td>0</td>\n",
       "      <td>1</td>\n",
       "      <td>1</td>\n",
       "      <td>1</td>\n",
       "      <td>0</td>\n",
       "      <td>e</td>\n",
       "    </tr>\n",
       "    <tr>\n",
       "      <th>2</th>\n",
       "      <td>14</td>\n",
       "      <td>10</td>\n",
       "      <td>1</td>\n",
       "      <td>3</td>\n",
       "      <td>19</td>\n",
       "      <td>14</td>\n",
       "      <td>0</td>\n",
       "      <td>1</td>\n",
       "      <td>1</td>\n",
       "      <td>1</td>\n",
       "      <td>0</td>\n",
       "      <td>n</td>\n",
       "    </tr>\n",
       "    <tr>\n",
       "      <th>3</th>\n",
       "      <td>14</td>\n",
       "      <td>10</td>\n",
       "      <td>1</td>\n",
       "      <td>3</td>\n",
       "      <td>19</td>\n",
       "      <td>14</td>\n",
       "      <td>0</td>\n",
       "      <td>1</td>\n",
       "      <td>1</td>\n",
       "      <td>1</td>\n",
       "      <td>0</td>\n",
       "      <td>s</td>\n",
       "    </tr>\n",
       "    <tr>\n",
       "      <th>4</th>\n",
       "      <td>14</td>\n",
       "      <td>10</td>\n",
       "      <td>1</td>\n",
       "      <td>3</td>\n",
       "      <td>19</td>\n",
       "      <td>14</td>\n",
       "      <td>0</td>\n",
       "      <td>1</td>\n",
       "      <td>1</td>\n",
       "      <td>1</td>\n",
       "      <td>0</td>\n",
       "      <td>p</td>\n",
       "    </tr>\n",
       "  </tbody>\n",
       "</table>\n",
       "</div>"
      ],
      "text/plain": [
       "   taxi_i  taxi_j  pass_i  pass_j  dest_i  dest_j  n_cell  e_cell  s_cell  \\\n",
       "0      14      10       1       3      19      14       0       1       1   \n",
       "1      14      10       1       3      19      14       0       1       1   \n",
       "2      14      10       1       3      19      14       0       1       1   \n",
       "3      14      10       1       3      19      14       0       1       1   \n",
       "4      14      10       1       3      19      14       0       1       1   \n",
       "\n",
       "   w_cell  pass_picked action  \n",
       "0       1            0      w  \n",
       "1       1            0      e  \n",
       "2       1            0      n  \n",
       "3       1            0      s  \n",
       "4       1            0      p  "
      ]
     },
     "execution_count": 44,
     "metadata": {},
     "output_type": "execute_result"
    }
   ],
   "source": [
    "X.head()"
   ]
  },
  {
   "cell_type": "code",
   "execution_count": 45,
   "metadata": {},
   "outputs": [
    {
     "name": "stderr",
     "output_type": "stream",
     "text": [
      "C:\\Users\\E595512\\AppData\\Local\\Continuum\\anaconda3\\lib\\site-packages\\ipykernel_launcher.py:5: SettingWithCopyWarning: \n",
      "A value is trying to be set on a copy of a slice from a DataFrame.\n",
      "Try using .loc[row_indexer,col_indexer] = value instead\n",
      "\n",
      "See the caveats in the documentation: http://pandas.pydata.org/pandas-docs/stable/indexing.html#indexing-view-versus-copy\n",
      "  \"\"\"\n"
     ]
    }
   ],
   "source": [
    "# convert action letters to numbers\n",
    "from sklearn import preprocessing\n",
    "le = preprocessing.LabelEncoder()\n",
    "le.fit(X['action'])\n",
    "X['action'] = le.transform(X['action']) "
   ]
  },
  {
   "cell_type": "code",
   "execution_count": 46,
   "metadata": {},
   "outputs": [
    {
     "data": {
      "text/html": [
       "<div>\n",
       "<style>\n",
       "    .dataframe thead tr:only-child th {\n",
       "        text-align: right;\n",
       "    }\n",
       "\n",
       "    .dataframe thead th {\n",
       "        text-align: left;\n",
       "    }\n",
       "\n",
       "    .dataframe tbody tr th {\n",
       "        vertical-align: top;\n",
       "    }\n",
       "</style>\n",
       "<table border=\"1\" class=\"dataframe\">\n",
       "  <thead>\n",
       "    <tr style=\"text-align: right;\">\n",
       "      <th></th>\n",
       "      <th>taxi_i</th>\n",
       "      <th>taxi_j</th>\n",
       "      <th>pass_i</th>\n",
       "      <th>pass_j</th>\n",
       "      <th>dest_i</th>\n",
       "      <th>dest_j</th>\n",
       "      <th>n_cell</th>\n",
       "      <th>e_cell</th>\n",
       "      <th>s_cell</th>\n",
       "      <th>w_cell</th>\n",
       "      <th>pass_picked</th>\n",
       "      <th>action</th>\n",
       "    </tr>\n",
       "  </thead>\n",
       "  <tbody>\n",
       "    <tr>\n",
       "      <th>0</th>\n",
       "      <td>14</td>\n",
       "      <td>10</td>\n",
       "      <td>1</td>\n",
       "      <td>3</td>\n",
       "      <td>19</td>\n",
       "      <td>14</td>\n",
       "      <td>0</td>\n",
       "      <td>1</td>\n",
       "      <td>1</td>\n",
       "      <td>1</td>\n",
       "      <td>0</td>\n",
       "      <td>5</td>\n",
       "    </tr>\n",
       "    <tr>\n",
       "      <th>1</th>\n",
       "      <td>14</td>\n",
       "      <td>10</td>\n",
       "      <td>1</td>\n",
       "      <td>3</td>\n",
       "      <td>19</td>\n",
       "      <td>14</td>\n",
       "      <td>0</td>\n",
       "      <td>1</td>\n",
       "      <td>1</td>\n",
       "      <td>1</td>\n",
       "      <td>0</td>\n",
       "      <td>1</td>\n",
       "    </tr>\n",
       "    <tr>\n",
       "      <th>2</th>\n",
       "      <td>14</td>\n",
       "      <td>10</td>\n",
       "      <td>1</td>\n",
       "      <td>3</td>\n",
       "      <td>19</td>\n",
       "      <td>14</td>\n",
       "      <td>0</td>\n",
       "      <td>1</td>\n",
       "      <td>1</td>\n",
       "      <td>1</td>\n",
       "      <td>0</td>\n",
       "      <td>2</td>\n",
       "    </tr>\n",
       "    <tr>\n",
       "      <th>3</th>\n",
       "      <td>14</td>\n",
       "      <td>10</td>\n",
       "      <td>1</td>\n",
       "      <td>3</td>\n",
       "      <td>19</td>\n",
       "      <td>14</td>\n",
       "      <td>0</td>\n",
       "      <td>1</td>\n",
       "      <td>1</td>\n",
       "      <td>1</td>\n",
       "      <td>0</td>\n",
       "      <td>4</td>\n",
       "    </tr>\n",
       "    <tr>\n",
       "      <th>4</th>\n",
       "      <td>14</td>\n",
       "      <td>10</td>\n",
       "      <td>1</td>\n",
       "      <td>3</td>\n",
       "      <td>19</td>\n",
       "      <td>14</td>\n",
       "      <td>0</td>\n",
       "      <td>1</td>\n",
       "      <td>1</td>\n",
       "      <td>1</td>\n",
       "      <td>0</td>\n",
       "      <td>3</td>\n",
       "    </tr>\n",
       "  </tbody>\n",
       "</table>\n",
       "</div>"
      ],
      "text/plain": [
       "   taxi_i  taxi_j  pass_i  pass_j  dest_i  dest_j  n_cell  e_cell  s_cell  \\\n",
       "0      14      10       1       3      19      14       0       1       1   \n",
       "1      14      10       1       3      19      14       0       1       1   \n",
       "2      14      10       1       3      19      14       0       1       1   \n",
       "3      14      10       1       3      19      14       0       1       1   \n",
       "4      14      10       1       3      19      14       0       1       1   \n",
       "\n",
       "   w_cell  pass_picked  action  \n",
       "0       1            0       5  \n",
       "1       1            0       1  \n",
       "2       1            0       2  \n",
       "3       1            0       4  \n",
       "4       1            0       3  "
      ]
     },
     "execution_count": 46,
     "metadata": {},
     "output_type": "execute_result"
    }
   ],
   "source": [
    "X.head()"
   ]
  },
  {
   "cell_type": "code",
   "execution_count": 47,
   "metadata": {},
   "outputs": [
    {
     "data": {
      "text/html": [
       "<div>\n",
       "<style>\n",
       "    .dataframe thead tr:only-child th {\n",
       "        text-align: right;\n",
       "    }\n",
       "\n",
       "    .dataframe thead th {\n",
       "        text-align: left;\n",
       "    }\n",
       "\n",
       "    .dataframe tbody tr th {\n",
       "        vertical-align: top;\n",
       "    }\n",
       "</style>\n",
       "<table border=\"1\" class=\"dataframe\">\n",
       "  <thead>\n",
       "    <tr style=\"text-align: right;\">\n",
       "      <th></th>\n",
       "      <th>0</th>\n",
       "      <th>1</th>\n",
       "      <th>2</th>\n",
       "      <th>3</th>\n",
       "      <th>4</th>\n",
       "      <th>5</th>\n",
       "      <th>6</th>\n",
       "      <th>7</th>\n",
       "      <th>8</th>\n",
       "      <th>9</th>\n",
       "      <th>10</th>\n",
       "      <th>11</th>\n",
       "    </tr>\n",
       "  </thead>\n",
       "  <tbody>\n",
       "    <tr>\n",
       "      <th>0</th>\n",
       "      <td>0.929856</td>\n",
       "      <td>0.240388</td>\n",
       "      <td>-1.310447</td>\n",
       "      <td>-0.980513</td>\n",
       "      <td>0.555757</td>\n",
       "      <td>0.220067</td>\n",
       "      <td>-0.069772</td>\n",
       "      <td>0.0</td>\n",
       "      <td>0.0</td>\n",
       "      <td>0.0</td>\n",
       "      <td>-0.066492</td>\n",
       "      <td>1.461538</td>\n",
       "    </tr>\n",
       "    <tr>\n",
       "      <th>1</th>\n",
       "      <td>0.929856</td>\n",
       "      <td>0.240388</td>\n",
       "      <td>-1.310447</td>\n",
       "      <td>-0.980513</td>\n",
       "      <td>0.555757</td>\n",
       "      <td>0.220067</td>\n",
       "      <td>-0.069772</td>\n",
       "      <td>0.0</td>\n",
       "      <td>0.0</td>\n",
       "      <td>0.0</td>\n",
       "      <td>-0.066492</td>\n",
       "      <td>-0.881396</td>\n",
       "    </tr>\n",
       "    <tr>\n",
       "      <th>2</th>\n",
       "      <td>0.929856</td>\n",
       "      <td>0.240388</td>\n",
       "      <td>-1.310447</td>\n",
       "      <td>-0.980513</td>\n",
       "      <td>0.555757</td>\n",
       "      <td>0.220067</td>\n",
       "      <td>-0.069772</td>\n",
       "      <td>0.0</td>\n",
       "      <td>0.0</td>\n",
       "      <td>0.0</td>\n",
       "      <td>-0.066492</td>\n",
       "      <td>-0.295662</td>\n",
       "    </tr>\n",
       "    <tr>\n",
       "      <th>3</th>\n",
       "      <td>0.929856</td>\n",
       "      <td>0.240388</td>\n",
       "      <td>-1.310447</td>\n",
       "      <td>-0.980513</td>\n",
       "      <td>0.555757</td>\n",
       "      <td>0.220067</td>\n",
       "      <td>-0.069772</td>\n",
       "      <td>0.0</td>\n",
       "      <td>0.0</td>\n",
       "      <td>0.0</td>\n",
       "      <td>-0.066492</td>\n",
       "      <td>0.875804</td>\n",
       "    </tr>\n",
       "    <tr>\n",
       "      <th>4</th>\n",
       "      <td>0.929856</td>\n",
       "      <td>0.240388</td>\n",
       "      <td>-1.310447</td>\n",
       "      <td>-0.980513</td>\n",
       "      <td>0.555757</td>\n",
       "      <td>0.220067</td>\n",
       "      <td>-0.069772</td>\n",
       "      <td>0.0</td>\n",
       "      <td>0.0</td>\n",
       "      <td>0.0</td>\n",
       "      <td>-0.066492</td>\n",
       "      <td>0.290071</td>\n",
       "    </tr>\n",
       "  </tbody>\n",
       "</table>\n",
       "</div>"
      ],
      "text/plain": [
       "         0         1         2         3         4         5         6    7   \\\n",
       "0  0.929856  0.240388 -1.310447 -0.980513  0.555757  0.220067 -0.069772  0.0   \n",
       "1  0.929856  0.240388 -1.310447 -0.980513  0.555757  0.220067 -0.069772  0.0   \n",
       "2  0.929856  0.240388 -1.310447 -0.980513  0.555757  0.220067 -0.069772  0.0   \n",
       "3  0.929856  0.240388 -1.310447 -0.980513  0.555757  0.220067 -0.069772  0.0   \n",
       "4  0.929856  0.240388 -1.310447 -0.980513  0.555757  0.220067 -0.069772  0.0   \n",
       "\n",
       "    8    9         10        11  \n",
       "0  0.0  0.0 -0.066492  1.461538  \n",
       "1  0.0  0.0 -0.066492 -0.881396  \n",
       "2  0.0  0.0 -0.066492 -0.295662  \n",
       "3  0.0  0.0 -0.066492  0.875804  \n",
       "4  0.0  0.0 -0.066492  0.290071  "
      ]
     },
     "execution_count": 47,
     "metadata": {},
     "output_type": "execute_result"
    }
   ],
   "source": [
    "# scale input for better SVR model\n",
    "from sklearn.preprocessing import scale\n",
    "scaled_X = pd.DataFrame(scale(X))\n",
    "scaled_X.head()"
   ]
  },
  {
   "cell_type": "code",
   "execution_count": 48,
   "metadata": {},
   "outputs": [
    {
     "name": "stdout",
     "output_type": "stream",
     "text": [
      "X_train shape:  (543875, 12)\n",
      "X_test shape:  (233090, 12)\n",
      "y_train shape:  (543875,)\n",
      "y_test shape:  (233090,)\n"
     ]
    }
   ],
   "source": [
    "# split data into training and test sets\n",
    "from sklearn.model_selection import train_test_split\n",
    "X_train, X_test, y_train, y_test = train_test_split(scaled_X, y, test_size=0.3, random_state=42)\n",
    "print(\"X_train shape: \", X_train.shape)\n",
    "print(\"X_test shape: \", X_test.shape)\n",
    "print(\"y_train shape: \", y_train.shape)\n",
    "print(\"y_test shape: \", y_test.shape)"
   ]
  },
  {
   "cell_type": "code",
   "execution_count": 55,
   "metadata": {},
   "outputs": [
    {
     "data": {
      "text/plain": [
       "43995    -2.261531\n",
       "81818    -2.063432\n",
       "718875   -2.347486\n",
       "690239   -2.691768\n",
       "13937    -2.025411\n",
       "Name: Q(s,a), dtype: float64"
      ]
     },
     "execution_count": 55,
     "metadata": {},
     "output_type": "execute_result"
    }
   ],
   "source": [
    "y_test.head()"
   ]
  },
  {
   "cell_type": "code",
   "execution_count": 49,
   "metadata": {},
   "outputs": [
    {
     "data": {
      "text/plain": [
       "SVR(C=1.0, cache_size=200, coef0=0.0, degree=3, epsilon=0.1, gamma='auto',\n",
       "  kernel='rbf', max_iter=-1, shrinking=True, tol=0.001, verbose=False)"
      ]
     },
     "execution_count": 49,
     "metadata": {},
     "output_type": "execute_result"
    }
   ],
   "source": [
    "# traing svr model from first 20000 examples\n",
    "from sklearn.svm import SVR\n",
    "clf = SVR()\n",
    "clf.fit(X_train[:20000], y_train[:20000])"
   ]
  },
  {
   "cell_type": "code",
   "execution_count": 50,
   "metadata": {},
   "outputs": [],
   "source": [
    "y_pred = clf.predict(X_test[:10000])"
   ]
  },
  {
   "cell_type": "code",
   "execution_count": 51,
   "metadata": {},
   "outputs": [
    {
     "data": {
      "text/plain": [
       "0.27383094338735081"
      ]
     },
     "execution_count": 51,
     "metadata": {},
     "output_type": "execute_result"
    }
   ],
   "source": [
    "from sklearn.metrics import mean_squared_error\n",
    "mean_squared_error(y_test[:10000], y_pred)"
   ]
  },
  {
   "cell_type": "code",
   "execution_count": 104,
   "metadata": {},
   "outputs": [
    {
     "data": {
      "text/html": [
       "<div>\n",
       "<style>\n",
       "    .dataframe thead tr:only-child th {\n",
       "        text-align: right;\n",
       "    }\n",
       "\n",
       "    .dataframe thead th {\n",
       "        text-align: left;\n",
       "    }\n",
       "\n",
       "    .dataframe tbody tr th {\n",
       "        vertical-align: top;\n",
       "    }\n",
       "</style>\n",
       "<table border=\"1\" class=\"dataframe\">\n",
       "  <thead>\n",
       "    <tr style=\"text-align: right;\">\n",
       "      <th></th>\n",
       "      <th>Q_approx</th>\n",
       "      <th>Q_true</th>\n",
       "    </tr>\n",
       "  </thead>\n",
       "  <tbody>\n",
       "    <tr>\n",
       "      <th>43995</th>\n",
       "      <td>-2.297314</td>\n",
       "      <td>-2.261531</td>\n",
       "    </tr>\n",
       "    <tr>\n",
       "      <th>81818</th>\n",
       "      <td>-2.217488</td>\n",
       "      <td>-2.063432</td>\n",
       "    </tr>\n",
       "    <tr>\n",
       "      <th>718875</th>\n",
       "      <td>-2.319667</td>\n",
       "      <td>-2.347486</td>\n",
       "    </tr>\n",
       "    <tr>\n",
       "      <th>690239</th>\n",
       "      <td>-2.331941</td>\n",
       "      <td>-2.691768</td>\n",
       "    </tr>\n",
       "    <tr>\n",
       "      <th>13937</th>\n",
       "      <td>-2.127923</td>\n",
       "      <td>-2.025411</td>\n",
       "    </tr>\n",
       "  </tbody>\n",
       "</table>\n",
       "</div>"
      ],
      "text/plain": [
       "        Q_approx    Q_true\n",
       "43995  -2.297314 -2.261531\n",
       "81818  -2.217488 -2.063432\n",
       "718875 -2.319667 -2.347486\n",
       "690239 -2.331941 -2.691768\n",
       "13937  -2.127923 -2.025411"
      ]
     },
     "execution_count": 104,
     "metadata": {},
     "output_type": "execute_result"
    }
   ],
   "source": [
    "df_compare = pd.DataFrame({'Q_true':y_test[:10000], 'Q_approx':y_pred})\n",
    "df_compare.head()"
   ]
  },
  {
   "cell_type": "code",
   "execution_count": 95,
   "metadata": {},
   "outputs": [],
   "source": [
    "# method for getting svr prediction, given state and action\n",
    "def SVR_Q_Approx(state, action, clf):\n",
    "    i_action = {'d': 0, 'e': 1, 'n': 2, 'p': 3, 's': 4, 'w': 5}\n",
    "    x_input = np.append(state, i_action[action]).astype('float64')\n",
    "    input_df = pd.DataFrame(scale(x_input).reshape(1, -1))\n",
    "    return clf.predict(input_df)[0]"
   ]
  },
  {
   "cell_type": "code",
   "execution_count": 97,
   "metadata": {},
   "outputs": [
    {
     "data": {
      "text/plain": [
       "-2.4674814471129709"
      ]
     },
     "execution_count": 97,
     "metadata": {},
     "output_type": "execute_result"
    }
   ],
   "source": [
    "state = np.array([14, 10, 1, 3, 19, 14, 0, 1, 1, 1, 0]) \n",
    "action = 'e'\n",
    "SVR_Q_Approx(state=state, action=action, clf=clf)\n",
    "#i_action = {'d': 0, 'e': 1, 'n': 2, 'p': 3, 's': 4, 'w': 5}\n",
    "# x_input = np.append(state, i_action[action]).astype('float64')\n",
    "# input_df = pd.DataFrame(scale(x_input).reshape(1, -1))\n",
    "# clf.predict(input_df)[0]"
   ]
  },
  {
   "cell_type": "code",
   "execution_count": 102,
   "metadata": {},
   "outputs": [],
   "source": [
    "# save svr model to file\n",
    "import pickle\n",
    "def save_model(clf, filename):\n",
    "    with open(filename, 'wb') as output:  # Overwrites any existing file.\n",
    "        pickle.dump(clf, output, pickle.HIGHEST_PROTOCOL)"
   ]
  },
  {
   "cell_type": "code",
   "execution_count": 103,
   "metadata": {},
   "outputs": [],
   "source": [
    "save_model(clf=clf, filename=\"taxi-q-svr.pkl\")"
   ]
  }
 ],
 "metadata": {
  "kernelspec": {
   "display_name": "Python 3",
   "language": "python",
   "name": "python3"
  },
  "language_info": {
   "codemirror_mode": {
    "name": "ipython",
    "version": 3
   },
   "file_extension": ".py",
   "mimetype": "text/x-python",
   "name": "python",
   "nbconvert_exporter": "python",
   "pygments_lexer": "ipython3",
   "version": "3.6.3"
  }
 },
 "nbformat": 4,
 "nbformat_minor": 2
}
