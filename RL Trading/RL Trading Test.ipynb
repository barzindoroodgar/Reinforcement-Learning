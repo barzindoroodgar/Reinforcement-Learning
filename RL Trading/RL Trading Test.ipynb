{
 "cells": [
  {
   "cell_type": "code",
   "execution_count": 1,
   "metadata": {
    "collapsed": true
   },
   "outputs": [],
   "source": [
    "import os\n",
    "import numpy as np\n",
    "import pandas as pd\n",
    "import finance as fin\n",
    "import matplotlib.pyplot as plt\n",
    "%matplotlib inline"
   ]
  },
  {
   "cell_type": "code",
   "execution_count": 13,
   "metadata": {},
   "outputs": [
    {
     "name": "stdout",
     "output_type": "stream",
     "text": [
      "qty: 2\n",
      "book value: 20\n",
      "6\n",
      "0\n",
      "{'AAPL': 0, 'GOOGL': 1}\n",
      "{'AAPL': 0, 'GOOGL': 12}\n",
      "{'AAPL': 6.0, 'GOOGL': 0}\n"
     ]
    }
   ],
   "source": [
    "h = fin.holdings()\n",
    "h.buy(\"AAPL\", 2, 10)\n",
    "h.buy(\"GOOGL\", 1, 12)\n",
    "print(\"qty:\", h.qty[\"AAPL\"])\n",
    "print(\"book value:\", h.book_value[\"AAPL\"])\n",
    "print(h.total_return(\"AAPL\", 13))\n",
    "h.sell(\"AAPL\", 2, 13)\n",
    "print(h.total_return(\"AAPL\", 11))\n",
    "\n",
    "print(h.qty)\n",
    "print(h.book_value)\n",
    "print(h.realized_return)"
   ]
  },
  {
   "cell_type": "code",
   "execution_count": 3,
   "metadata": {},
   "outputs": [
    {
     "name": "stdout",
     "output_type": "stream",
     "text": [
      "4\n",
      "1000\n"
     ]
    }
   ],
   "source": [
    "s1.PE_RATIO_MAX = 4\n",
    "print(s1.PE_RATIO_MAX)\n",
    "print(s2.PE_RATIO_MAX)"
   ]
  },
  {
   "cell_type": "code",
   "execution_count": 14,
   "metadata": {
    "collapsed": true
   },
   "outputs": [],
   "source": [
    "\"\"\"load data\"\"\"\n",
    "symbols = ['GSPC', 'DJI', 'MSFT', 'GOOGL', 'XOM', 'BAC', 'AAPL', 'JNJ', 'AMZN', 'IBM', 'KO', 'WMT']\n",
    "dates = pd.date_range('2012-01-01', '2015-12-31')\n",
    "df = fin.get_data(symbols, dates)"
   ]
  },
  {
   "cell_type": "code",
   "execution_count": 15,
   "metadata": {},
   "outputs": [
    {
     "data": {
      "text/html": [
       "<div>\n",
       "<style>\n",
       "    .dataframe thead tr:only-child th {\n",
       "        text-align: right;\n",
       "    }\n",
       "\n",
       "    .dataframe thead th {\n",
       "        text-align: left;\n",
       "    }\n",
       "\n",
       "    .dataframe tbody tr th {\n",
       "        vertical-align: top;\n",
       "    }\n",
       "</style>\n",
       "<table border=\"1\" class=\"dataframe\">\n",
       "  <thead>\n",
       "    <tr style=\"text-align: right;\">\n",
       "      <th></th>\n",
       "      <th>GSPC</th>\n",
       "      <th>DJI</th>\n",
       "      <th>MSFT</th>\n",
       "      <th>GOOGL</th>\n",
       "      <th>XOM</th>\n",
       "      <th>BAC</th>\n",
       "      <th>AAPL</th>\n",
       "      <th>JNJ</th>\n",
       "      <th>AMZN</th>\n",
       "      <th>IBM</th>\n",
       "      <th>KO</th>\n",
       "      <th>WMT</th>\n",
       "    </tr>\n",
       "  </thead>\n",
       "  <tbody>\n",
       "    <tr>\n",
       "      <th>2012-01-03</th>\n",
       "      <td>1277.060059</td>\n",
       "      <td>12397.37988</td>\n",
       "      <td>22.909807</td>\n",
       "      <td>333.038025</td>\n",
       "      <td>72.083488</td>\n",
       "      <td>5.494183</td>\n",
       "      <td>52.852215</td>\n",
       "      <td>55.568245</td>\n",
       "      <td>179.029999</td>\n",
       "      <td>159.145142</td>\n",
       "      <td>29.434118</td>\n",
       "      <td>51.942726</td>\n",
       "    </tr>\n",
       "    <tr>\n",
       "      <th>2012-01-04</th>\n",
       "      <td>1277.300049</td>\n",
       "      <td>12418.41992</td>\n",
       "      <td>23.448965</td>\n",
       "      <td>334.474487</td>\n",
       "      <td>72.100227</td>\n",
       "      <td>5.503655</td>\n",
       "      <td>53.136253</td>\n",
       "      <td>55.230865</td>\n",
       "      <td>177.509995</td>\n",
       "      <td>158.495911</td>\n",
       "      <td>29.249483</td>\n",
       "      <td>51.408920</td>\n",
       "    </tr>\n",
       "    <tr>\n",
       "      <th>2012-01-05</th>\n",
       "      <td>1281.060059</td>\n",
       "      <td>12415.70020</td>\n",
       "      <td>23.688589</td>\n",
       "      <td>329.834839</td>\n",
       "      <td>71.882317</td>\n",
       "      <td>5.977293</td>\n",
       "      <td>53.726177</td>\n",
       "      <td>55.163387</td>\n",
       "      <td>177.610001</td>\n",
       "      <td>157.744171</td>\n",
       "      <td>29.110989</td>\n",
       "      <td>51.159237</td>\n",
       "    </tr>\n",
       "    <tr>\n",
       "      <th>2012-01-06</th>\n",
       "      <td>1277.810059</td>\n",
       "      <td>12359.91992</td>\n",
       "      <td>24.056585</td>\n",
       "      <td>325.335327</td>\n",
       "      <td>71.345901</td>\n",
       "      <td>5.854147</td>\n",
       "      <td>54.287819</td>\n",
       "      <td>54.682598</td>\n",
       "      <td>182.610001</td>\n",
       "      <td>155.933182</td>\n",
       "      <td>28.926338</td>\n",
       "      <td>50.797626</td>\n",
       "    </tr>\n",
       "    <tr>\n",
       "      <th>2012-01-09</th>\n",
       "      <td>1280.699951</td>\n",
       "      <td>12392.69043</td>\n",
       "      <td>23.739935</td>\n",
       "      <td>311.541534</td>\n",
       "      <td>71.664398</td>\n",
       "      <td>5.939402</td>\n",
       "      <td>54.201706</td>\n",
       "      <td>54.766941</td>\n",
       "      <td>178.559998</td>\n",
       "      <td>155.121643</td>\n",
       "      <td>28.926338</td>\n",
       "      <td>50.952602</td>\n",
       "    </tr>\n",
       "  </tbody>\n",
       "</table>\n",
       "</div>"
      ],
      "text/plain": [
       "                   GSPC          DJI       MSFT       GOOGL        XOM  \\\n",
       "2012-01-03  1277.060059  12397.37988  22.909807  333.038025  72.083488   \n",
       "2012-01-04  1277.300049  12418.41992  23.448965  334.474487  72.100227   \n",
       "2012-01-05  1281.060059  12415.70020  23.688589  329.834839  71.882317   \n",
       "2012-01-06  1277.810059  12359.91992  24.056585  325.335327  71.345901   \n",
       "2012-01-09  1280.699951  12392.69043  23.739935  311.541534  71.664398   \n",
       "\n",
       "                 BAC       AAPL        JNJ        AMZN         IBM         KO  \\\n",
       "2012-01-03  5.494183  52.852215  55.568245  179.029999  159.145142  29.434118   \n",
       "2012-01-04  5.503655  53.136253  55.230865  177.509995  158.495911  29.249483   \n",
       "2012-01-05  5.977293  53.726177  55.163387  177.610001  157.744171  29.110989   \n",
       "2012-01-06  5.854147  54.287819  54.682598  182.610001  155.933182  28.926338   \n",
       "2012-01-09  5.939402  54.201706  54.766941  178.559998  155.121643  28.926338   \n",
       "\n",
       "                  WMT  \n",
       "2012-01-03  51.942726  \n",
       "2012-01-04  51.408920  \n",
       "2012-01-05  51.159237  \n",
       "2012-01-06  50.797626  \n",
       "2012-01-09  50.952602  "
      ]
     },
     "execution_count": 15,
     "metadata": {},
     "output_type": "execute_result"
    }
   ],
   "source": [
    "df.head()"
   ]
  },
  {
   "cell_type": "code",
   "execution_count": 4,
   "metadata": {},
   "outputs": [
    {
     "name": "stdout",
     "output_type": "stream",
     "text": [
      "996\n",
      "first element:  -0.0488420684095\n",
      "min: -0.112748107132\n",
      "max: 0.283182500649\n",
      "mean: 0.009949816402609444\n",
      "median: 0.007199491397204993\n"
     ]
    },
    {
     "data": {
      "text/plain": [
       "(array([  30.,  120.,  330.,  347.,  133.,   17.,    9.,    4.,    2.,    4.]),\n",
       " array([-0.11274811, -0.07315505, -0.03356199,  0.00603108,  0.04562414,\n",
       "         0.0852172 ,  0.12481026,  0.16440332,  0.20399638,  0.24358944,\n",
       "         0.2831825 ]),\n",
       " <a list of 10 Patch objects>)"
      ]
     },
     "execution_count": 4,
     "metadata": {},
     "output_type": "execute_result"
    },
    {
     "data": {
      "image/png": "[encoded data removed]",
      "text/plain": [
       "<matplotlib.figure.Figure at 0xa693518>"
      ]
     },
     "metadata": {},
     "output_type": "display_data"
    }
   ],
   "source": [
    "n_days = 10\n",
    "symbol = 'GOOGL'\n",
    "momentum_ds = fin.momentum_series(df[symbol], n_days)\n",
    "print (len(momentum_ds))\n",
    "print ('first element: ' , momentum_ds[0])\n",
    "print ('min:' , momentum_ds.min())\n",
    "print ('max:' , momentum_ds.max())\n",
    "print ('mean:' , momentum_ds.mean())\n",
    "print ('median:' , momentum_ds.median())\n",
    "plt.hist(momentum_ds)"
   ]
  },
  {
   "cell_type": "code",
   "execution_count": 14,
   "metadata": {},
   "outputs": [
    {
     "data": {
      "text/plain": [
       "(array([  30.,  120.,  330.,  347.,  133.,   17.,    9.,    4.,    2.,    4.]),\n",
       " array([ 0. ,  0.1,  0.2,  0.3,  0.4,  0.5,  0.6,  0.7,  0.8,  0.9,  1. ]),\n",
       " <a list of 10 Patch objects>)"
      ]
     },
     "execution_count": 14,
     "metadata": {},
     "output_type": "execute_result"
    },
    {
     "data": {
      "image/png": "[encoded data removed]",
      "text/plain": [
       "<matplotlib.figure.Figure at 0xa6af630>"
      ]
     },
     "metadata": {},
     "output_type": "display_data"
    }
   ],
   "source": [
    "norm_mom_ds = fin.min_max_normalize(momentum_ds)\n",
    "plt.hist(norm_mom_ds)norm_mom_ds"
   ]
  },
  {
   "cell_type": "code",
   "execution_count": 15,
   "metadata": {},
   "outputs": [
    {
     "data": {
      "text/plain": [
       "array([ 0.17552853,  0.22366279,  0.25105398,  0.28067626,  0.3028909 ,\n",
       "        0.32733029,  0.3593821 ,  0.39107012,  0.43564717,  1.        ])"
      ]
     },
     "execution_count": 15,
     "metadata": {},
     "output_type": "execute_result"
    }
   ],
   "source": [
    "thresholds = fin.discrete_thresholds(norm_mom_ds, 10)\n",
    "thresholds"
   ]
  },
  {
   "cell_type": "code",
   "execution_count": 16,
   "metadata": {},
   "outputs": [
    {
     "name": "stdout",
     "output_type": "stream",
     "text": [
      "9\n"
     ]
    }
   ],
   "source": [
    "print (fin.discretize(0.9, thresholds))"
   ]
  },
  {
   "cell_type": "code",
   "execution_count": 17,
   "metadata": {},
   "outputs": [
    {
     "data": {
      "text/plain": [
       "2012-01-18    0.161407\n",
       "2012-01-19    0.176261\n",
       "2012-01-20    0.004914\n",
       "2012-01-23    0.034148\n",
       "2012-01-24    0.116255\n",
       "2012-01-25    0.067314\n",
       "2012-01-26    0.051307\n",
       "2012-01-27    0.085565\n",
       "2012-01-30    0.093620\n",
       "2012-01-31    0.090010\n",
       "2012-02-01    0.076937\n",
       "2012-02-02    0.069702\n",
       "2012-02-03    0.329334\n",
       "2012-02-06    0.386439\n",
       "2012-02-07    0.397111\n",
       "2012-02-08    0.463764\n",
       "2012-02-09    0.477540\n",
       "2012-02-10    0.397687\n",
       "2012-02-13    0.435647\n",
       "2012-02-14    0.413858\n",
       "2012-02-15    0.392304\n",
       "2012-02-16    0.377186\n",
       "2012-02-17    0.319963\n",
       "2012-02-21    0.305127\n",
       "2012-02-22    0.289637\n",
       "2012-02-23    0.269278\n",
       "2012-02-24    0.278324\n",
       "2012-02-27    0.298940\n",
       "2012-02-28    0.310305\n",
       "2012-02-29    0.319934\n",
       "                ...   \n",
       "2015-11-18    0.300484\n",
       "2015-11-19    0.282344\n",
       "2015-11-20    0.335838\n",
       "2015-11-23    0.358152\n",
       "2015-11-24    0.322640\n",
       "2015-11-25    0.298002\n",
       "2015-11-27    0.336314\n",
       "2015-11-30    0.362510\n",
       "2015-12-01    0.397081\n",
       "2015-12-02    0.392671\n",
       "2015-12-03    0.311985\n",
       "2015-12-04    0.348812\n",
       "2015-12-07    0.271733\n",
       "2015-12-08    0.279695\n",
       "2015-12-09    0.261533\n",
       "2015-12-10    0.254495\n",
       "2015-12-11    0.214261\n",
       "2015-12-14    0.283741\n",
       "2015-12-15    0.208396\n",
       "2015-12-16    0.280676\n",
       "2015-12-17    0.290126\n",
       "2015-12-18    0.212291\n",
       "2015-12-21    0.244937\n",
       "2015-12-22    0.258668\n",
       "2015-12-23    0.304508\n",
       "2015-12-24    0.304042\n",
       "2015-12-28    0.391864\n",
       "2015-12-29    0.388837\n",
       "2015-12-30    0.385152\n",
       "2015-12-31    0.289386\n",
       "Name: GOOGL, Length: 996, dtype: float64"
      ]
     },
     "execution_count": 17,
     "metadata": {},
     "output_type": "execute_result"
    }
   ],
   "source": [
    "norm_mom_ds"
   ]
  },
  {
   "cell_type": "code",
   "execution_count": 4,
   "metadata": {},
   "outputs": [
    {
     "data": {
      "text/plain": [
       "0      0\n",
       "1      1\n",
       "2      0\n",
       "3      0\n",
       "4      0\n",
       "5      0\n",
       "6      0\n",
       "7      0\n",
       "8      0\n",
       "9      0\n",
       "10     0\n",
       "11     0\n",
       "12     6\n",
       "13     7\n",
       "14     8\n",
       "15     9\n",
       "16     9\n",
       "17     8\n",
       "18     9\n",
       "19     8\n",
       "20     8\n",
       "21     7\n",
       "22     5\n",
       "23     5\n",
       "24     4\n",
       "25     3\n",
       "26     3\n",
       "27     4\n",
       "28     5\n",
       "29     5\n",
       "      ..\n",
       "966    4\n",
       "967    4\n",
       "968    6\n",
       "969    6\n",
       "970    5\n",
       "971    4\n",
       "972    6\n",
       "973    7\n",
       "974    8\n",
       "975    8\n",
       "976    5\n",
       "977    6\n",
       "978    3\n",
       "979    3\n",
       "980    3\n",
       "981    3\n",
       "982    1\n",
       "983    4\n",
       "984    1\n",
       "985    4\n",
       "986    4\n",
       "987    1\n",
       "988    2\n",
       "989    3\n",
       "990    5\n",
       "991    5\n",
       "992    8\n",
       "993    7\n",
       "994    7\n",
       "995    4\n",
       "Length: 996, dtype: int32"
      ]
     },
     "execution_count": 4,
     "metadata": {},
     "output_type": "execute_result"
    }
   ],
   "source": [
    "n_days = 10\n",
    "symbol = 'GOOGL'\n",
    "d_momentum = fin.get_discrete_momentum_series(df[symbol], n_days)\n",
    "d_momentum"
   ]
  },
  {
   "cell_type": "code",
   "execution_count": 18,
   "metadata": {},
   "outputs": [
    {
     "data": {
      "text/plain": [
       "0      0\n",
       "1      1\n",
       "2      0\n",
       "3      0\n",
       "4      0\n",
       "5      0\n",
       "6      0\n",
       "7      0\n",
       "8      0\n",
       "9      0\n",
       "10     0\n",
       "11     0\n",
       "12     6\n",
       "13     7\n",
       "14     8\n",
       "15     9\n",
       "16     9\n",
       "17     8\n",
       "18     9\n",
       "19     8\n",
       "20     8\n",
       "21     7\n",
       "22     5\n",
       "23     5\n",
       "24     4\n",
       "25     3\n",
       "26     3\n",
       "27     4\n",
       "28     5\n",
       "29     5\n",
       "      ..\n",
       "966    4\n",
       "967    4\n",
       "968    6\n",
       "969    6\n",
       "970    5\n",
       "971    4\n",
       "972    6\n",
       "973    7\n",
       "974    8\n",
       "975    8\n",
       "976    5\n",
       "977    6\n",
       "978    3\n",
       "979    3\n",
       "980    3\n",
       "981    3\n",
       "982    1\n",
       "983    4\n",
       "984    1\n",
       "985    4\n",
       "986    4\n",
       "987    1\n",
       "988    2\n",
       "989    3\n",
       "990    5\n",
       "991    5\n",
       "992    8\n",
       "993    7\n",
       "994    7\n",
       "995    4\n",
       "Length: 996, dtype: int32"
      ]
     },
     "execution_count": 18,
     "metadata": {},
     "output_type": "execute_result"
    }
   ],
   "source": [
    "#vect_disc = np.vectorize(ut.discretize, excluded=['thresholds'])\n",
    "#result_array = vect_disc(ds_norm, thresholds=thresholds)\n",
    "disc_norm_mom_ds = fin.discretize_series(norm_mom_ds, thresholds)\n",
    "disc_norm_mom_ds"
   ]
  },
  {
   "cell_type": "code",
   "execution_count": 10,
   "metadata": {},
   "outputs": [
    {
     "data": {
      "text/plain": [
       "pandas.core.series.Series"
      ]
     },
     "execution_count": 10,
     "metadata": {},
     "output_type": "execute_result"
    }
   ],
   "source": [
    "start = 4\n",
    "n_days = 4\n",
    "sma_ds = pd.Series(df['AAPL'][start:].values / df['AAPL'][start-n_days:start].mean() - 1)\n",
    "type(sma_ds)"
   ]
  },
  {
   "cell_type": "code",
   "execution_count": 11,
   "metadata": {},
   "outputs": [
    {
     "name": "stdout",
     "output_type": "stream",
     "text": [
      "0.0131043350977\n"
     ]
    }
   ],
   "source": [
    "print (fin.sma(df['AAPL'], 4, 4))"
   ]
  },
  {
   "cell_type": "code",
   "execution_count": 5,
   "metadata": {},
   "outputs": [
    {
     "data": {
      "text/plain": [
       "0       8.764751\n",
       "1       8.843456\n",
       "2       8.841892\n",
       "3       9.062577\n",
       "4       9.031199\n",
       "5       9.089273\n",
       "6       9.193635\n",
       "7       9.251713\n",
       "8       9.419000\n",
       "9       9.540872\n",
       "10      9.576059\n",
       "11      9.588372\n",
       "12      9.379995\n",
       "13      9.329720\n",
       "14      9.337176\n",
       "15      9.533068\n",
       "16      9.588198\n",
       "17      9.706600\n",
       "18      9.985703\n",
       "19     10.358074\n",
       "20     10.288385\n",
       "21     10.288559\n",
       "22     10.557783\n",
       "23     10.642033\n",
       "24     10.582055\n",
       "25     10.527273\n",
       "26     10.470240\n",
       "27     10.659716\n",
       "28     10.789734\n",
       "29     10.844168\n",
       "         ...    \n",
       "946    15.423418\n",
       "947    15.617607\n",
       "948    15.685378\n",
       "949    15.483369\n",
       "950    15.630638\n",
       "951    15.519861\n",
       "952    15.491189\n",
       "953    15.555049\n",
       "954    15.429934\n",
       "955    15.291787\n",
       "956    15.151033\n",
       "957    15.650188\n",
       "958    15.552442\n",
       "959    15.545926\n",
       "960    15.205771\n",
       "961    15.277451\n",
       "962    14.887773\n",
       "963    14.796544\n",
       "964    14.537189\n",
       "965    14.647968\n",
       "966    14.340396\n",
       "967    13.955927\n",
       "968    14.125356\n",
       "969    14.112324\n",
       "970    14.292173\n",
       "971    14.216585\n",
       "972    14.058889\n",
       "973    14.309116\n",
       "974    14.124053\n",
       "975    13.855577\n",
       "Length: 976, dtype: float64"
      ]
     },
     "execution_count": 5,
     "metadata": {},
     "output_type": "execute_result"
    }
   ],
   "source": [
    "start = 4\n",
    "n_days = 30\n",
    "price = df['AAPL']\n",
    "pbr_ds = fin.price_bb_series(price, n_days)\n",
    "pbr_ds"
   ]
  },
  {
   "cell_type": "code",
   "execution_count": 7,
   "metadata": {},
   "outputs": [
    {
     "data": {
      "text/plain": [
       "0       8.764751\n",
       "1       8.843456\n",
       "2       8.841892\n",
       "3       9.062577\n",
       "4       9.031199\n",
       "5       9.089273\n",
       "6       9.193635\n",
       "7       9.251713\n",
       "8       9.419000\n",
       "9       9.540872\n",
       "10      9.576059\n",
       "11      9.588372\n",
       "12      9.379995\n",
       "13      9.329720\n",
       "14      9.337176\n",
       "15      9.533068\n",
       "16      9.588198\n",
       "17      9.706600\n",
       "18      9.985703\n",
       "19     10.358074\n",
       "20     10.288385\n",
       "21     10.288559\n",
       "22     10.557783\n",
       "23     10.642033\n",
       "24     10.582055\n",
       "25     10.527273\n",
       "26     10.470240\n",
       "27     10.659716\n",
       "28     10.789734\n",
       "29     10.844168\n",
       "         ...    \n",
       "946    15.423418\n",
       "947    15.617607\n",
       "948    15.685378\n",
       "949    15.483369\n",
       "950    15.630638\n",
       "951    15.519861\n",
       "952    15.491189\n",
       "953    15.555049\n",
       "954    15.429934\n",
       "955    15.291787\n",
       "956    15.151033\n",
       "957    15.650188\n",
       "958    15.552442\n",
       "959    15.545926\n",
       "960    15.205771\n",
       "961    15.277451\n",
       "962    14.887773\n",
       "963    14.796544\n",
       "964    14.537189\n",
       "965    14.647968\n",
       "966    14.340396\n",
       "967    13.955927\n",
       "968    14.125356\n",
       "969    14.112324\n",
       "970    14.292173\n",
       "971    14.216585\n",
       "972    14.058889\n",
       "973    14.309116\n",
       "974    14.124053\n",
       "975    13.855577\n",
       "Length: 976, dtype: float64"
      ]
     },
     "execution_count": 7,
     "metadata": {},
     "output_type": "execute_result"
    }
   ],
   "source": [
    "start = 30\n",
    "n_days = 30\n",
    "price = df['AAPL']\n",
    "#ptb_ds = pd.Series(price[start:].values-ut.sma_series(price, start, n_days)) / (2*price[start-n_days:start].std())\n",
    "ptb_ds = fin.price_bb_series(price, n_days, start)\n",
    "ptb_ds"
   ]
  },
  {
   "cell_type": "code",
   "execution_count": 13,
   "metadata": {},
   "outputs": [
    {
     "data": {
      "text/plain": [
       "0.6386836933621063"
      ]
     },
     "execution_count": 13,
     "metadata": {},
     "output_type": "execute_result"
    }
   ],
   "source": [
    "df['AAPL'][0:4].std()"
   ]
  },
  {
   "cell_type": "code",
   "execution_count": 14,
   "metadata": {},
   "outputs": [
    {
     "name": "stdout",
     "output_type": "stream",
     "text": [
      "42.4220958106\n"
     ]
    }
   ],
   "source": [
    "print (fin.price_bb(df['AAPL'], 4, 4))"
   ]
  },
  {
   "cell_type": "code",
   "execution_count": 12,
   "metadata": {},
   "outputs": [
    {
     "data": {
      "text/plain": [
       "2012-01-03     52.852215\n",
       "2012-01-04     53.136253\n",
       "2012-01-05     53.726177\n",
       "2012-01-06     54.287819\n",
       "2012-01-09     54.201706\n",
       "2012-01-10     54.395779\n",
       "2012-01-11     54.307095\n",
       "2012-01-12     54.158012\n",
       "2012-01-13     53.954945\n",
       "2012-01-17     54.583416\n",
       "2012-01-18     55.150204\n",
       "2012-01-19     54.975407\n",
       "2012-01-20     54.017918\n",
       "2012-01-23     54.931702\n",
       "2012-01-24     54.032063\n",
       "2012-01-25     57.405769\n",
       "2012-01-26     57.144859\n",
       "2012-01-27     57.485451\n",
       "2012-01-30     58.221874\n",
       "2012-01-31     58.667850\n",
       "2012-02-01     58.630581\n",
       "2012-02-02     58.493065\n",
       "2012-02-03     59.079132\n",
       "2012-02-06     59.630486\n",
       "2012-02-07     60.255104\n",
       "2012-02-08     61.264008\n",
       "2012-02-09     63.383335\n",
       "2012-02-10     63.415470\n",
       "2012-02-13     64.595322\n",
       "2012-02-14     65.476974\n",
       "                 ...    \n",
       "2015-11-18    113.327248\n",
       "2015-11-19    114.766914\n",
       "2015-11-20    115.269348\n",
       "2015-11-23    113.771706\n",
       "2015-11-24    114.863525\n",
       "2015-11-25    114.042252\n",
       "2015-11-27    113.829681\n",
       "2015-11-30    114.303123\n",
       "2015-12-01    113.375557\n",
       "2015-12-02    112.351372\n",
       "2015-12-03    111.307861\n",
       "2015-12-04    115.008461\n",
       "2015-12-07    114.283798\n",
       "2015-12-08    114.235489\n",
       "2015-12-09    111.713676\n",
       "2015-12-10    112.245087\n",
       "2015-12-11    109.356125\n",
       "2015-12-14    108.679771\n",
       "2015-12-15    106.756989\n",
       "2015-12-16    107.578270\n",
       "2015-12-17    105.298019\n",
       "2015-12-18    102.447670\n",
       "2015-12-21    103.703766\n",
       "2015-12-22    103.607155\n",
       "2015-12-23    104.940506\n",
       "2015-12-24    104.380112\n",
       "2015-12-28    103.210999\n",
       "2015-12-29    105.066116\n",
       "2015-12-30    103.694107\n",
       "2015-12-31    101.703697\n",
       "Name: AAPL, Length: 1006, dtype: float64"
      ]
     },
     "execution_count": 12,
     "metadata": {},
     "output_type": "execute_result"
    }
   ],
   "source": [
    "discrete_pbr_ds = fin.price_sma_series(price, 50)\n",
    "price"
   ]
  },
  {
   "cell_type": "code",
   "execution_count": 21,
   "metadata": {},
   "outputs": [
    {
     "data": {
      "text/plain": [
       "{'AAPL': 4, 'ABC': 1}"
      ]
     },
     "execution_count": 21,
     "metadata": {},
     "output_type": "execute_result"
    }
   ],
   "source": [
    "equity_qty = dict()\n",
    "equity_qty[\"AAPL\"] = 3\n",
    "equity_qty[\"AAPL\"] += 1\n",
    "equity_qty[\"ABC\"] = 1\n",
    "equity_qty"
   ]
  },
  {
   "cell_type": "code",
   "execution_count": 18,
   "metadata": {
    "collapsed": true
   },
   "outputs": [],
   "source": [
    "if \"as\" in equity_qty:\n",
    "    print (\"yes\")\n",
    "    "
   ]
  },
  {
   "cell_type": "code",
   "execution_count": 4,
   "metadata": {},
   "outputs": [
    {
     "data": {
      "text/plain": [
       "10000.0"
      ]
     },
     "execution_count": 4,
     "metadata": {},
     "output_type": "execute_result"
    }
   ],
   "source": []
  },
  {
   "cell_type": "code",
   "execution_count": null,
   "metadata": {
    "collapsed": true
   },
   "outputs": [],
   "source": []
  }
 ],
 "metadata": {
  "kernelspec": {
   "display_name": "Python 3",
   "language": "python",
   "name": "python3"
  },
  "language_info": {
   "codemirror_mode": {
    "name": "ipython",
    "version": 3
   },
   "file_extension": ".py",
   "mimetype": "text/x-python",
   "name": "python",
   "nbconvert_exporter": "python",
   "pygments_lexer": "ipython3",
   "version": "3.6.3"
  }
 },
 "nbformat": 4,
 "nbformat_minor": 2
}
